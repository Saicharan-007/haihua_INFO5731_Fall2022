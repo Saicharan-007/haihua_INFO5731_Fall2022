{
  "cells": [
    {
      "cell_type": "markdown",
      "metadata": {
        "id": "view-in-github",
        "colab_type": "text"
      },
      "source": [
        "<a href=\"https://colab.research.google.com/github/Saicharan-007/haihua_INFO5731_Fall2022/blob/main/In_class_exercise_01_09072022.ipynb\" target=\"_parent\"><img src=\"https://colab.research.google.com/assets/colab-badge.svg\" alt=\"Open In Colab\"/></a>"
      ]
    },
    {
      "cell_type": "markdown",
      "metadata": {
        "id": "DymRJbxDBCnf"
      },
      "source": [
        "# **The first In-class-exercise (09/07/2022, 40 points in total)**"
      ]
    },
    {
      "cell_type": "markdown",
      "metadata": {
        "id": "03jb4GZsBkBS"
      },
      "source": [
        "(1) Write a Python program to calculate the length of a string. (4 points)"
      ]
    },
    {
      "cell_type": "code",
      "execution_count": null,
      "metadata": {
        "colab": {
          "base_uri": "https://localhost:8080/"
        },
        "id": "YaGLbSHHB8Ej",
        "outputId": "d06f1c35-d016-4f58-8cf3-78550d3fe548"
      },
      "outputs": [
        {
          "output_type": "stream",
          "name": "stdout",
          "text": [
            "9\n"
          ]
        }
      ],
      "source": [
        "Str='saicharan'\n",
        "print(len(Str))\n",
        "\n"
      ]
    },
    {
      "cell_type": "markdown",
      "metadata": {
        "id": "jJDe71iLB616"
      },
      "source": [
        "(2) Write a Python program to count the number of characters in a string. (4 points)\n",
        "\n",
        "Sample String : 'google.com‘, \n",
        "\n",
        "Expected Result : {'o': 3, 'g': 2, '.': 1, 'e': 1, 'l': 1, 'm': 1, 'c': 1}"
      ]
    },
    {
      "cell_type": "code",
      "execution_count": null,
      "metadata": {
        "colab": {
          "base_uri": "https://localhost:8080/"
        },
        "id": "MtKskTzbCLaU",
        "outputId": "a37ff03e-842b-433a-b043-9a6c5a349c87"
      },
      "outputs": [
        {
          "output_type": "stream",
          "name": "stdout",
          "text": [
            "{'g': 2, 'o': 3, 'l': 1, 'e': 1, '.': 1, 'c': 1, 'm': 1}\n"
          ]
        }
      ],
      "source": [
        "String='google.com'\n",
        "dictonary={} \n",
        "for i in String:\n",
        " keys=dictonary.keys()\n",
        " if i in keys:\n",
        "  dictonary[i]+=1\n",
        " else:\n",
        "  dictonary[i]=1\n",
        "print(dictonary)\n",
        "\n"
      ]
    },
    {
      "cell_type": "markdown",
      "metadata": {
        "id": "55W9AMdXCSpV"
      },
      "source": [
        "(3) Write a Python program to sum all the items in a list. (4 points)"
      ]
    },
    {
      "cell_type": "code",
      "execution_count": null,
      "metadata": {
        "colab": {
          "base_uri": "https://localhost:8080/"
        },
        "id": "I57NXsauCec2",
        "outputId": "721f7452-2402-401c-cced-a35924465bc6"
      },
      "outputs": [
        {
          "output_type": "stream",
          "name": "stdout",
          "text": [
            "129\n"
          ]
        }
      ],
      "source": [
        "list1=[4,10,20,55,40] #Consider a list containing integers\n",
        "sum=0\n",
        "for i in range(len(list1)):\n",
        "  sum=sum+list1[i]\n",
        "print(sum)\n"
      ]
    },
    {
      "cell_type": "markdown",
      "metadata": {
        "id": "4ulBZ6yhCi9F"
      },
      "source": [
        "(4) Write a Python program to get a string from a given string where all occurrences of its first char have been changed to '\\$', except the first char itself. (4 points)\n",
        "\n",
        "Sample String : 'restart‘, \n",
        "\n",
        "Expected Result : 'resta\\$t'"
      ]
    },
    {
      "cell_type": "code",
      "execution_count": 1,
      "metadata": {
        "colab": {
          "base_uri": "https://localhost:8080/"
        },
        "id": "Fj0XhwbBCw2o",
        "outputId": "3bfdedd9-6f38-4030-afac-cd5d58a73eec"
      },
      "outputs": [
        {
          "output_type": "stream",
          "name": "stdout",
          "text": [
            "resta$t\n"
          ]
        }
      ],
      "source": [
        "it_str = \"restart\"\n",
        "final = it_str.replace(\"r\", \"$\").replace(\"$\", \"r\", 1)\n",
        "print(final)\n"
      ]
    },
    {
      "cell_type": "markdown",
      "metadata": {
        "id": "_bIP7s1MCzue"
      },
      "source": [
        "(5) Write a program with python which could accept two parameter a and b to calculate and output the result of S, where \n",
        "\n",
        "$\\ S=3.14*(1+a/b)^3$ (4 points)\n",
        "\n"
      ]
    },
    {
      "cell_type": "code",
      "execution_count": null,
      "metadata": {
        "colab": {
          "base_uri": "https://localhost:8080/"
        },
        "id": "w79QilHXD3Mg",
        "outputId": "09f0c337-2c93-42f0-9392-604991727fc5"
      },
      "outputs": [
        {
          "output_type": "stream",
          "name": "stdout",
          "text": [
            "10.5975\n"
          ]
        }
      ],
      "source": [
        "# write your answer here\n",
        "Paramater_a=10 \n",
        "Paramater_b=20\n",
        "S=3.14*((1+Paramater_a/Paramater_b)**3)\n",
        "print(S)"
      ]
    },
    {
      "cell_type": "markdown",
      "metadata": {
        "id": "xCa2bK9aD4Q3"
      },
      "source": [
        "(6) Write a Python program to concatenate following dictionaries to create a new one. (4 points)\n",
        "\n",
        "Sample Dictionary : dic1={1:10, 2:20}, dic2={3:30, 4:40}, dic3={5:50,6:60}, \n",
        "\n",
        "Expected Result : {1: 10, 2: 20, 3: 30, 4: 40, 5: 50, 6: 60}\n"
      ]
    },
    {
      "cell_type": "code",
      "execution_count": null,
      "metadata": {
        "colab": {
          "base_uri": "https://localhost:8080/"
        },
        "id": "_z4aLqAbEET1",
        "outputId": "2eb2be23-3bd7-4f68-fe62-4c42b9bd5961"
      },
      "outputs": [
        {
          "output_type": "stream",
          "name": "stdout",
          "text": [
            "{1: 10, 2: 20, 3: 30, 4: 40, 5: 50, 6: 60}\n"
          ]
        }
      ],
      "source": [
        "# write your answer here\n",
        "Dictonary1={1:10, 2:20}\n",
        "Dictonary2={3:30, 4:40}\n",
        "Dictonary3={5:50,6:60}\n",
        "Dictonary1.update(Dictonary2)\n",
        "Dictonary1.update(Dictonary3)\n",
        "print(Dictonary1)\n",
        "\n"
      ]
    },
    {
      "cell_type": "markdown",
      "metadata": {
        "id": "0v48Vqa7FrQh"
      },
      "source": [
        "(7) Write a Python program to check whether an element exists within a tuple. (4 points)"
      ]
    },
    {
      "cell_type": "code",
      "execution_count": null,
      "metadata": {
        "colab": {
          "base_uri": "https://localhost:8080/"
        },
        "id": "7WEmgq-DF2P1",
        "outputId": "72cc1541-4ee5-45f5-9bb6-768495caa5f9"
      },
      "outputs": [
        {
          "output_type": "stream",
          "name": "stdout",
          "text": [
            "True\n",
            "False\n"
          ]
        }
      ],
      "source": [
        "# write your answer here\n",
        "tup=(20,30,45,78,30)\n",
        "print(20 in tup)\n",
        "print(3 in tup)\n",
        "\n"
      ]
    },
    {
      "cell_type": "markdown",
      "metadata": {
        "id": "vD5PYLMuGga_"
      },
      "source": [
        "(8) Write a Python program to find maximum and the minimum value in a set. (4 points)"
      ]
    },
    {
      "cell_type": "code",
      "execution_count": null,
      "metadata": {
        "colab": {
          "base_uri": "https://localhost:8080/"
        },
        "id": "t0D5kdJUGjjw",
        "outputId": "bc3bfc53-3268-46ea-8e1a-69e10e2ec376"
      },
      "outputs": [
        {
          "output_type": "stream",
          "name": "stdout",
          "text": [
            "99\n",
            "10\n"
          ]
        }
      ],
      "source": [
        "# write your answer here\n",
        "Set_Max_Min={20,30,56,99,10}\n",
        "print(max(Set_Max_Min))\n",
        "print(min(Set_Max_Min))\n",
        "\n"
      ]
    },
    {
      "cell_type": "markdown",
      "metadata": {
        "id": "uHkd-y5VhVWC"
      },
      "source": [
        "(9) Write a Python program to randomly divide the students in this class into six groups for term projects, each group should have at least 4 students but no more than 6 students (including 6). Here is the students list: (4 points)\n",
        "\n",
        "studnet_list = ['ja0964','sa1198','sb1357','vb0218','sc1229','kg0569','kg0470','sg1297','bg0320','fh0141','jl1252','sk1386',\n",
        "           'ak0956','sk1390','sk1458','sk1313','ak0934','vm0377','nm0618','sm1640','sm1907','gn0108','pr0353','dr0609','ms1500','aos0040','ds0814', 'av0659','nv0234','hy0232']"
      ]
    },
    {
      "cell_type": "code",
      "source": [
        "from itertools import islice\n",
        "from random import randint\n",
        "\n",
        "student_list = ['vmb0067','pc0353','snd0097','yye0005','sg0940','bk0301','rak0120','rrk0058','spk0057','vl0135','nm0547','pn0159', 'msp0174','dd0420','ds0761','rs0850','ss1995','at0739','at0768','mv0299','tv0119','dy0091']\n",
        "\n",
        "def class_group(student_list, no_of_groups, min_size=3, max_size=5):\n",
        "    lst_student = iter(student_list)\n",
        "    for i in range(no_of_groups):\n",
        "        group = list(islice(lst_student,randint(min_size,max_size)))\n",
        "        if group:\n",
        "            yield group\n",
        "        else:\n",
        "            break\n",
        "print(list(class_group(student_list,5)))\n"
      ],
      "metadata": {
        "id": "-uI2XWhvRO3J",
        "colab": {
          "base_uri": "https://localhost:8080/"
        },
        "outputId": "67355b24-4b83-403a-db31-ae51c10eca29"
      },
      "execution_count": 2,
      "outputs": [
        {
          "output_type": "stream",
          "name": "stdout",
          "text": [
            "[['vmb0067', 'pc0353', 'snd0097', 'yye0005', 'sg0940'], ['bk0301', 'rak0120', 'rrk0058'], ['spk0057', 'vl0135', 'nm0547', 'pn0159'], ['msp0174', 'dd0420', 'ds0761', 'rs0850'], ['ss1995', 'at0739', 'at0768', 'mv0299']]\n"
          ]
        }
      ]
    },
    {
      "cell_type": "markdown",
      "metadata": {
        "id": "nvnnKDRfpv-G"
      },
      "source": [
        "(10) Write a Python program to find the duplicate elements in a given array **integers**. Return -1 If there are no such elements. (4 points)"
      ]
    },
    {
      "cell_type": "code",
      "execution_count": null,
      "metadata": {
        "id": "TImRhxtTpv-G",
        "colab": {
          "base_uri": "https://localhost:8080/"
        },
        "outputId": "3c2fa307-cdfe-4815-acdd-c281d7f81993"
      },
      "outputs": [
        {
          "output_type": "stream",
          "name": "stdout",
          "text": [
            "[45, 89]\n"
          ]
        }
      ],
      "source": [
        "# write your answer here\n",
        "def dup_elements(Elements):\n",
        "    count=0\n",
        "    lst2=[]\n",
        "    for i in range(len(Elements)):\n",
        "        for j in range(i+1,len(Elements)):\n",
        "            if Elements[i]==Elements[j]:\n",
        "                lst2.append(Elements[i])\n",
        "    if len(lst2)==0:\n",
        "        return -1;\n",
        "    else:\n",
        "        return lst2;\n",
        "\n",
        "Elements=[45,55,45,89,98,89,67]\n",
        "print(dup_elements(Elements))\n",
        "  "
      ]
    },
    {
      "cell_type": "markdown",
      "metadata": {
        "id": "azzK_HhTpv-H"
      },
      "source": [
        "(11) Write a Python program to select all the Sundays of a specified year. (4 extra points)"
      ]
    },
    {
      "cell_type": "code",
      "execution_count": null,
      "metadata": {
        "id": "1jCewOclpv-H",
        "colab": {
          "base_uri": "https://localhost:8080/"
        },
        "outputId": "b408dfbd-096a-42d0-cc6e-9a2b3aba0951"
      },
      "outputs": [
        {
          "output_type": "stream",
          "name": "stdout",
          "text": [
            "2022-01-02\n",
            "2022-01-09\n",
            "2022-01-16\n",
            "2022-01-23\n",
            "2022-01-30\n",
            "2022-02-06\n",
            "2022-02-13\n",
            "2022-02-20\n",
            "2022-02-27\n",
            "2022-03-06\n",
            "2022-03-13\n",
            "2022-03-20\n",
            "2022-03-27\n",
            "2022-04-03\n",
            "2022-04-10\n",
            "2022-04-17\n",
            "2022-04-24\n",
            "2022-05-01\n",
            "2022-05-08\n",
            "2022-05-15\n",
            "2022-05-22\n",
            "2022-05-29\n",
            "2022-06-05\n",
            "2022-06-12\n",
            "2022-06-19\n",
            "2022-06-26\n",
            "2022-07-03\n",
            "2022-07-10\n",
            "2022-07-17\n",
            "2022-07-24\n",
            "2022-07-31\n",
            "2022-08-07\n",
            "2022-08-14\n",
            "2022-08-21\n",
            "2022-08-28\n",
            "2022-09-04\n",
            "2022-09-11\n",
            "2022-09-18\n",
            "2022-09-25\n",
            "2022-10-02\n",
            "2022-10-09\n",
            "2022-10-16\n",
            "2022-10-23\n",
            "2022-10-30\n",
            "2022-11-06\n",
            "2022-11-13\n",
            "2022-11-20\n",
            "2022-11-27\n",
            "2022-12-04\n",
            "2022-12-11\n",
            "2022-12-18\n",
            "2022-12-25\n"
          ]
        }
      ],
      "source": [
        "# write your answer here\n",
        "from datetime import date, timedelta\n",
        "def Year_Sunday(year):\n",
        "       date_time = date(year, 1, 1)      \n",
        "       date_time += timedelta(days = 6 - date_time.weekday())  \n",
        "       while date_time.year == year:\n",
        "          yield date_time\n",
        "          date_time += timedelta(days = 7)\n",
        "for k in Year_Sunday(2022):\n",
        "   print(k)"
      ]
    },
    {
      "cell_type": "code",
      "source": [],
      "metadata": {
        "id": "YVBVa8fHGrE7"
      },
      "execution_count": null,
      "outputs": []
    }
  ],
  "metadata": {
    "colab": {
      "collapsed_sections": [],
      "provenance": [],
      "include_colab_link": true
    },
    "kernelspec": {
      "display_name": "Python 3 (ipykernel)",
      "language": "python",
      "name": "python3"
    },
    "language_info": {
      "codemirror_mode": {
        "name": "ipython",
        "version": 3
      },
      "file_extension": ".py",
      "mimetype": "text/x-python",
      "name": "python",
      "nbconvert_exporter": "python",
      "pygments_lexer": "ipython3",
      "version": "3.9.12"
    }
  },
  "nbformat": 4,
  "nbformat_minor": 0
}
